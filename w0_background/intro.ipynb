{
 "metadata": {
  "name": ""
 },
 "nbformat": 3,
 "nbformat_minor": 0,
 "worksheets": [
  {
   "cells": [
    {
     "cell_type": "code",
     "collapsed": false,
     "input": [
      "# This cell is present in all the notebooks.\n",
      "# It makes the necessary packages available and adjusts various settings.\n",
      "# You should execute this cell at the start.\n",
      "\n",
      "%run ../code/init_mooc_nb.ipy"
     ],
     "language": "python",
     "metadata": {},
     "outputs": [
      {
       "output_type": "stream",
       "stream": "stdout",
       "text": [
        "Performing the necessary imports.\n",
        "\n",
        "from __future__ import division, print_function\n",
        "import numpy as np\n",
        "import matplotlib\n",
        "import kwant\n",
        "\n",
        "import ipywidgets\n",
        "from IPython.html.widgets import interact\n",
        "from ipywidgets import StaticInteract, RangeWidget, DropDownWidget\n",
        "from IPython.display import display_html\n",
        "from matplotlib import pyplot as plt\n",
        "\n",
        "import pfaffian as pf\n",
        "from edx_components import *\n",
        "\n"
       ]
      },
      {
       "html": [
        "\n",
        "<script type=text/javascript>\n",
        "/* Add a button for showing or hiding input */\n",
        "on = \"Show input\";\n",
        "off = \"Hide input\";\n",
        "function onoff(){\n",
        "  currentvalue = document.getElementById('onoff').value;\n",
        "  if(currentvalue == off){\n",
        "    document.getElementById(\"onoff\").value=on;\n",
        "      $('div.input').hide();\n",
        "  }else{\n",
        "    document.getElementById(\"onoff\").value=off;\n",
        "      $('div.input').show();\n",
        "  }\n",
        "}\n",
        "\n",
        "/* Launch first notebook cell on start */\n",
        "function launch_first_cell (evt) {\n",
        "  if (!launch_first_cell.executed\n",
        "      && IPython.notebook.kernel\n",
        "  ) {\n",
        "    IPython.notebook.get_cells()[0].execute();\n",
        "    launch_first_cell.executed = true;\n",
        "  }\n",
        "}\n",
        "\n",
        "$([IPython.events]).on('status_started.Kernel notebook_loaded.Notebook', launch_first_cell);\n",
        "</script>\n",
        "\n",
        "<p>Press this button to show/hide the code used in the notebook:\n",
        "<input type=\"button\" class=\"ui-button ui-widget ui-state-default ui-corner-all ui-button-text-only\" value=\"Hide input\" id=\"onoff\" onclick=\"onoff();\"></p>\n",
        "<script type=text/javascript>\n",
        "$(document).ready(function (){if(!(\"IPython\" in window)){onoff();}})\n",
        "</script>"
       ],
       "metadata": {},
       "output_type": "display_data"
      }
     ]
    },
    {
     "cell_type": "markdown",
     "metadata": {},
     "source": [
      "**NOTHING ABOVE THIS LINE IS VISIBLE IN EDX**"
     ]
    },
    {
     "cell_type": "heading",
     "level": 1,
     "metadata": {},
     "source": [
      "A welcome word"
     ]
    },
    {
     "cell_type": "markdown",
     "metadata": {},
     "source": [
      "First of all, greetings from the mooc team! We are very happy that you chose to follow our course.\n",
      "\n",
      "By means of this course we want to provide an introduction to the new topics on topology in condensed matter.\n",
      "We want it to be simple, and we want it to be useful for people with very different background and motivation.\n",
      "\n",
      "We want the course to be useful to you if you are a **master student**, and you want to get an understanding of what topology is all about.\n",
      "\n",
      "Or you could be a **PhD student or a postdoc** doing experiments, and you want to get a better theoretical understanding of what you should expect in your investigations.\n",
      "\n",
      "You could even be a **theorist working in topology** and be extremely familiar with topological invariants and vector bundles, but you would like to get a better understanding of how the mathematical ideas apply in physical systems. \n",
      "\n",
      "Finally, we also want this course to be equally useful if you are, say, a **professor working in condensed matter** and you want to to apply the ideas introduced by topology in your domain, so that you just need a quick overview of what research activity is there.\n",
      "\n",
      "But even despite your different backgrounds, we want our course to feel like this:\n",
      "\n",
      "![](figures/magnetic_discussion_bruno_touschek.png)\n",
      "\n",
      "rather than this:\n",
      "\n",
      "![](figures/bored_audience_bruno_touschek.png)\n",
      "\n",
      "*(Images by Bruno Touschek, \u00a9 1981 [CERN](http://cds.cern.ch/record/135949) CC-BY-3.0)*"
     ]
    },
    {
     "cell_type": "heading",
     "level": 3,
     "metadata": {},
     "source": [
      "What you get"
     ]
    },
    {
     "cell_type": "markdown",
     "metadata": {},
     "source": [
      "Let us explain what you can expect from the course, and what is special about it.\n",
      "The first thing which you need to understand is that the course is hard.\n",
      "We don't mean advanced and involved math (we took care to skip all the parts that don't help understanding).\n",
      "Instead, since topology has impact on many different physical phenomena, the course will touch a lot of different concepts in condensed matter physics.\n",
      "\n",
      "First of all, we will provide you with a description of the most **important facts and discoveries in topology** in the most simple and concise manner that we can find.\n",
      "\n",
      "This will still be hard to some of you, since the required background in condensed matter physics is still broad.\n",
      "If you see that it is the case, you will need to search for advice in the course **wiki** and the course **discussions**, so you'll also use the course as an expert community."
     ]
    },
    {
     "cell_type": "markdown",
     "metadata": {},
     "source": [
      "If you are experienced already, you may find the lectures straightforward.\n",
      "However even despite the active research on topological insulators began less than ten years ago,\n",
      "the field is already incredibly broad.\n",
      "\n",
      "This is why we want our course to also fulfill a role of a **journal club**:\n",
      "every week we'll ask you to read one of several suggested papers, observe how the concepts that you learn\n",
      "appear in a new context, and summarize it for the other participants.\n",
      "That way you will learn to analyze research papers and get an **overview of the field**."
     ]
    },
    {
     "cell_type": "markdown",
     "metadata": {},
     "source": [
      "Most of the numerical simulations that are used in our research are actually amazingly easy if you know how to do them.\n",
      "While teaching how to do computer simulations is not our main aim, we provide already set up simulations for the systems we describe in the lectures.\n",
      "\n",
      "Using these **computer simulations** you can see for yourself how various models behave, discover new parameter regimes that we don't cover in the lectures, or even extend the simulations and see how adding new terms to the models changes the results."
     ]
    },
    {
     "cell_type": "heading",
     "level": 3,
     "metadata": {},
     "source": [
      "How you can help us"
     ]
    },
    {
     "cell_type": "markdown",
     "metadata": {},
     "source": [
      "MOOCs like this one are not a usual way for providing graduate-level materials, and even less so materials that are a topic of active research.\n",
      "\n",
      "We believe that it is a very useful and promising way of knowledge dissemination, that has advantages over a book, a university course, or a review.\n",
      "\n",
      "This is why it is extremely important for us to know what is your background and your motivation to take the course.\n",
      "We want you to share what you found difficult, what you found easy, and where you think the course can be improved."
     ]
    },
    {
     "cell_type": "markdown",
     "metadata": {},
     "source": [
      "Moreover, we publish all the **source code** for every single bit of this course in this [Github repository](https://github.com/topocm/topocm_content).\n",
      "So whenever you see a typo, or you would like to suggest an improvement, you can open a new issue, (or even make a pull request if you know how to use Github)."
     ]
    },
    {
     "cell_type": "heading",
     "level": 1,
     "metadata": {},
     "source": [
      "Software you will need"
     ]
    },
    {
     "cell_type": "markdown",
     "metadata": {},
     "source": [
      "If you don't want to be bothered trying out the numerical simulations, you are all set if you have an EdX account and you are signed up for the course.\n",
      "\n",
      "However we strongly recommend to not skip the numerical simulations part. Following it will help you to develop intuition about how the topological systems behave. The numerical simulations can also serve as an extremely useful tool helping both in experiments and theory."
     ]
    },
    {
     "cell_type": "markdown",
     "metadata": {},
     "source": [
      "To get going with the simulations, you will need to get access to computational software.\n",
      "\n",
      "Don't fear, it's very easy. If you don't want to spend time installing programs, just make a free account at [Sage Cloud](https://cloud.sagemath.com). It is a free cloud computation service provided by the University of Washington, so using it you can access everything that you will need for our course as long as you have a browser.\n",
      "\n",
      "A cool feature of Sage Cloud is that it allows you to collaboratively work on the same simulations, similar to google docs. In fact, we even encourage you to work in groups."
     ]
    },
    {
     "cell_type": "markdown",
     "metadata": {},
     "source": [
      "An alternative route is to install everything on your own computer. The advantages are that the computations will run faster, and that you will be able to use it without internet access. Of course that also means you cannot collaborate like on Sage Cloud (unless you are also using the Sage Cloud).\n",
      "\n",
      "If you want to install the necessary software, you will need:\n",
      "\n",
      "* Python 2.7\n",
      "* Python scientific stack (SciPy, NumPy, Matplotlib, IPython notebook)\n",
      "* [Kwant](http://kwant-project.org), a package for quantum transport simulations.\n",
      "\n",
      "The installation should be straightforward.\n",
      "Installation of most of the requirements is described [here](http://kwant-project.org/install).\n",
      "On Mac we are using Homebrew.\n",
      "\n",
      "If you are using Windows, you are all set after following those instructions.\n",
      "\n",
      "Linux and Mac users should also get the IPython notebook, which should be as easy as running\n",
      "\n",
      "    sudo pip install ipython[all]\n",
      "    \n",
      "or using the IPython version provided by your Linux packaging system. "
     ]
    },
    {
     "cell_type": "heading",
     "level": 3,
     "metadata": {},
     "source": [
      "IPython notebooks"
     ]
    },
    {
     "cell_type": "markdown",
     "metadata": {},
     "source": [
      "A separate mention of the software we use goes to IPython notebooks.\n",
      "\n",
      "Every document that you see in our course (including the one that you are reading right now) was prepared as an IPython notebook.\n",
      "\n",
      "These notebooks are extremely handy, they allow:\n",
      "\n",
      "* To use an interactive computing environment where you can see what your simulation does right as you are creating it. \n",
      "* To combine nicely formatted text (with Latex equations and images) together with code in any language and the output of that code.\n",
      "* To easily share that same code: here, take a look at the source of [the notebook](http://nbviewer.ipython.org/github/topocm/topocm_content/blob/master/w0_background/intro.ipynb) that you are currently reading.\n",
      "* To convert it to a presentation, blog post, or an EdX course.\n",
      "\n",
      "The combination of the above nice properties with many more and with IPython being free software lead to the notebooks being [highlighted](http://www.nature.com/news/interactive-notebooks-sharing-the-code-1.16261) in Nature.\n",
      "\n",
      "If you want to learn more about how to use the notebooks, read [over here](http://nbviewer.ipython.org/github/ipython/ipython/blob/2.x/examples/Notebook/Index.ipynb)."
     ]
    },
    {
     "cell_type": "heading",
     "level": 3,
     "metadata": {},
     "source": [
      "Sharing notebooks"
     ]
    },
    {
     "cell_type": "markdown",
     "metadata": {},
     "source": [
      "Showing the results of your work is very easy.\n",
      "\n",
      "If you are using Sage Cloud, you can just click the \"share the notebook\" button when you have it opened, and copy the URL.\n",
      "\n",
      "Otherwise you can make the notebook visible online (for example by putting it in your Dropbox public folder or something similar), copy link, and paste it into [http://nbviewer.ipython.org](http://nbviewer.ipython.org)."
     ]
    },
    {
     "cell_type": "heading",
     "level": 3,
     "metadata": {},
     "source": [
      "Kwant, Python, and Python scientific software"
     ]
    },
    {
     "cell_type": "markdown",
     "metadata": {},
     "source": [
      "For most of the simulations of condensed matter systems we are going to use the Kwant package. You can learn Kwant in more detail by following the [tutorial](http://kwant-project.org/doc/1.0/tutorial/), however for most of the exercises you will be able to learn by doing: we will provide some starting code that you can modify.\n",
      "\n",
      "The same applies to Python and the Python scientific stack (NumPy, SciPy, Matplotlib): these are easy to use, especially when you have code examples.\n",
      "\n",
      "**Do you have questions about installation? Use this discussion:**"
     ]
    },
    {
     "cell_type": "code",
     "collapsed": false,
     "input": [
      "MoocDiscussion('Software', 'Help with installation')"
     ],
     "language": "python",
     "metadata": {},
     "outputs": [
      {
       "html": [
        "<p><b>Discussion</b> entitled 'Help with installation' is available in the online version of the course.</p>"
       ],
       "metadata": {},
       "output_type": "pyout",
       "text": [
        "MoocDiscussion(**{'discussion_category': 'Software', 'discussion_target': 'Help with installation', 'display_name': 'Help with installation', 'discussion_id': '75178eec506e49da2ccd89ba1f047247'})"
       ]
      }
     ]
    },
    {
     "cell_type": "heading",
     "level": 1,
     "metadata": {},
     "source": [
      "Literature"
     ]
    },
    {
     "cell_type": "markdown",
     "metadata": {},
     "source": [
      "We are mostly going to focus on the overall structure of the field and study the most basic and general phenomena. We will also skip detailed derivations or some details.\n",
      "\n",
      "For a more formal and complete source of information on topological insulators and superconductors we recommend you to look into the reviews below. (Of course we think they will be much easier to follor after you finish the course)."
     ]
    },
    {
     "cell_type": "code",
     "collapsed": false,
     "input": [
      "display_html(display.HTML(\"<h2>Topological insulator reviews</h3>\"),\n",
      "             PreprintReference(\"0801.0901\", show_abstract=False),\n",
      "             PreprintReference(\"1002.3895\", show_abstract=False),\n",
      "             PreprintReference(\"1008.2026\", show_abstract=False),\n",
      "             display.HTML(\"<h2>Majorana fermion reviews</h2>\"),\n",
      "             PreprintReference(\"1112.1950\", show_abstract=False),\n",
      "             PreprintReference(\"1202.1293\", show_abstract=False),\n",
      "             PreprintReference(\"1206.1736\", show_abstract=False),\n",
      "             PreprintReference(\"1407.2131\", show_abstract=False),\n",
      "             display.HTML(\"<h2>Advanced topics: Fractional particles and topological quantum computation</h2>\"),\n",
      "             PreprintReference(\"0707.1889\", show_abstract=False),\n",
      "             PreprintReference(\"0711.4697\", show_abstract=False),\n",
      "             PreprintReference(\"1404.0897\", show_abstract=False),\n",
      "             display.HTML(\"<h2>Extra topics</h2>\"),\n",
      "             PreprintReference(\"1211.5623\", show_abstract=False),\n",
      "             PreprintReference(\"1501.00531\", show_abstract=False))"
     ],
     "language": "python",
     "metadata": {},
     "outputs": [
      {
       "html": [
        "<h2>Topological insulator reviews</h3>"
       ],
       "metadata": {},
       "output_type": "display_data"
      },
      {
       "html": [
        "<h3 class=\"title mathjax\">The Quantum Spin Hall Effect: Theory and Experiment</h3><p><a href=http://arxiv.org/abs/0801.0901>http://arxiv.org/abs/0801.0901</a><br><div class=\"authors\">Markus Koenig, Hartmut Buhmann, Laurens W. Molenkamp, Taylor L. Hughes, Chao-Xing Liu, Xiao-Liang Qi, Shou-Cheng Zhang</div></p>"
       ],
       "metadata": {},
       "output_type": "display_data"
      },
      {
       "html": [
        "<h3 class=\"title mathjax\">Topological Insulators</h3><p><a href=http://arxiv.org/abs/1002.3895>http://arxiv.org/abs/1002.3895</a><br><div class=\"authors\">M. Z. Hasan, C. L. Kane</div></p>"
       ],
       "metadata": {},
       "output_type": "display_data"
      },
      {
       "html": [
        "<h3 class=\"title mathjax\">Topological insulators and superconductors</h3><p><a href=http://arxiv.org/abs/1008.2026>http://arxiv.org/abs/1008.2026</a><br><div class=\"authors\">Xiao-Liang Qi, Shou-Cheng Zhang</div></p>"
       ],
       "metadata": {},
       "output_type": "display_data"
      },
      {
       "html": [
        "<h2>Majorana fermion reviews</h2>"
       ],
       "metadata": {},
       "output_type": "display_data"
      },
      {
       "html": [
        "<h3 class=\"title mathjax\">Search for Majorana fermions in superconductors</h3><p><a href=http://arxiv.org/abs/1112.1950>http://arxiv.org/abs/1112.1950</a><br><div class=\"authors\">C. W. J. Beenakker</div></p>"
       ],
       "metadata": {},
       "output_type": "display_data"
      },
      {
       "html": [
        "<h3 class=\"title mathjax\">New directions in the pursuit of Majorana fermions in solid state\n",
        "  systems</h3><p><a href=http://arxiv.org/abs/1202.1293>http://arxiv.org/abs/1202.1293</a><br><div class=\"authors\">Jason Alicea</div></p>"
       ],
       "metadata": {},
       "output_type": "display_data"
      },
      {
       "html": [
        "<h3 class=\"title mathjax\">Introduction to topological superconductivity and Majorana fermions</h3><p><a href=http://arxiv.org/abs/1206.1736>http://arxiv.org/abs/1206.1736</a><br><div class=\"authors\">Martin Leijnse, Karsten Flensberg</div></p>"
       ],
       "metadata": {},
       "output_type": "display_data"
      },
      {
       "html": [
        "<h3 class=\"title mathjax\">Random-matrix theory of Majorana fermions and topological\n",
        "  superconductors</h3><p><a href=http://arxiv.org/abs/1407.2131>http://arxiv.org/abs/1407.2131</a><br><div class=\"authors\">C. W. J. Beenakker</div></p>"
       ],
       "metadata": {},
       "output_type": "display_data"
      },
      {
       "html": [
        "<h2>Advanced topics: Fractional particles and topological quantum computation</h2>"
       ],
       "metadata": {},
       "output_type": "display_data"
      },
      {
       "html": [
        "<h3 class=\"title mathjax\">Non-Abelian Anyons and Topological Quantum Computation</h3><p><a href=http://arxiv.org/abs/0707.1889>http://arxiv.org/abs/0707.1889</a><br><div class=\"authors\">Chetan Nayak, Steven H. Simon, Ady Stern, Michael Freedman, Sankar Das Sarma</div></p>"
       ],
       "metadata": {},
       "output_type": "display_data"
      },
      {
       "html": [
        "<h3 class=\"title mathjax\">Anyons and the quantum Hall effect - a pedagogical review</h3><p><a href=http://arxiv.org/abs/0711.4697>http://arxiv.org/abs/0711.4697</a><br><div class=\"authors\">Ady Stern</div></p>"
       ],
       "metadata": {},
       "output_type": "display_data"
      },
      {
       "html": [
        "<h3 class=\"title mathjax\">Majorana Qubits</h3><p><a href=http://arxiv.org/abs/1404.0897>http://arxiv.org/abs/1404.0897</a><br><div class=\"authors\">Fabian Hassler</div></p>"
       ],
       "metadata": {},
       "output_type": "display_data"
      },
      {
       "html": [
        "<h2>Extra topics</h2>"
       ],
       "metadata": {},
       "output_type": "display_data"
      },
      {
       "html": [
        "<h3 class=\"title mathjax\">Floquet topological insulators</h3><p><a href=http://arxiv.org/abs/1211.5623>http://arxiv.org/abs/1211.5623</a><br><div class=\"authors\">J\u00e9r\u00f4me Cayssol, Bal\u00e1zs D\u00f3ra, Ferenc Simon, Roderich Moessner</div></p>"
       ],
       "metadata": {},
       "output_type": "display_data"
      },
      {
       "html": [
        "<h3 class=\"title mathjax\">Topological Crystalline Insulators and Topological Superconductors: From\n",
        "  Concepts to Materials</h3><p><a href=http://arxiv.org/abs/1501.00531>http://arxiv.org/abs/1501.00531</a><br><div class=\"authors\">Yoichi Ando, Liang Fu</div></p>"
       ],
       "metadata": {},
       "output_type": "display_data"
      }
     ]
    }
   ],
   "metadata": {}
  }
 ]
}