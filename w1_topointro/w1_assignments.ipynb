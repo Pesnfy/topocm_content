{
 "metadata": {
  "name": ""
 },
 "nbformat": 3,
 "nbformat_minor": 0,
 "worksheets": [
  {
   "cells": [
    {
     "cell_type": "code",
     "collapsed": false,
     "input": [
      "%run ../code/init_mooc_nb.ipy"
     ],
     "language": "python",
     "metadata": {},
     "outputs": [
      {
       "output_type": "stream",
       "stream": "stdout",
       "text": [
        "Performing the necessary imports.\n",
        "\n",
        "from __future__ import division, print_function\n",
        "import numpy as np\n",
        "import matplotlib\n",
        "import kwant\n",
        "\n",
        "import ipywidgets\n",
        "from IPython.html.widgets import interact\n",
        "from ipywidgets import StaticInteract, RangeWidget, DropDownWidget\n",
        "from IPython.display import display_html\n",
        "from matplotlib import pyplot as plt\n",
        "\n",
        "import pfaffian as pf\n",
        "from edx_components import *\n",
        "\n"
       ]
      },
      {
       "html": [
        "\n",
        "<script type=text/javascript>\n",
        "/* Add a button for showing or hiding input */\n",
        "on = \"Show input\";\n",
        "off = \"Hide input\";\n",
        "function onoff(){\n",
        "  currentvalue = document.getElementById('onoff').value;\n",
        "  if(currentvalue == off){\n",
        "    document.getElementById(\"onoff\").value=on;\n",
        "      $('div.input').hide();\n",
        "  }else{\n",
        "    document.getElementById(\"onoff\").value=off;\n",
        "      $('div.input').show();\n",
        "  }\n",
        "}\n",
        "\n",
        "/* Launch first notebook cell on start */\n",
        "function launch_first_cell (evt) {\n",
        "  if (!launch_first_cell.executed\n",
        "      && IPython.notebook.kernel\n",
        "  ) {\n",
        "    IPython.notebook.get_cells()[0].execute();\n",
        "    launch_first_cell.executed = true;\n",
        "  }\n",
        "}\n",
        "\n",
        "$([IPython.events]).on('status_started.Kernel notebook_loaded.Notebook', launch_first_cell);\n",
        "</script>\n",
        "\n",
        "<p>Press this button to show/hide the code used in the notebook:\n",
        "<input type=\"button\" class=\"ui-button ui-widget ui-state-default ui-corner-all ui-button-text-only\" value=\"Hide input\" id=\"onoff\" onclick=\"onoff();\"></p>\n",
        "<script type=text/javascript>\n",
        "$(document).ready(function (){if(!(\"IPython\" in window)){onoff();}})\n",
        "</script>"
       ],
       "metadata": {},
       "output_type": "display_data"
      }
     ]
    },
    {
     "cell_type": "heading",
     "level": 1,
     "metadata": {},
     "source": [
      "Simulations: what about other symmetries"
     ]
    },
    {
     "cell_type": "markdown",
     "metadata": {},
     "source": [
      "So you've made it through the content of the first week. Congratulations!\n",
      "\n",
      "Now let's get our hands dirty. \n",
      "\n",
      "Let's begin by grabbing the notebooks of this week and the extra code we use to run these notebooks over [here](http://tiny.cc/topocm_smc). (Click the [i] button to the left of the folder that you want to copy.)\n",
      "\n",
      "You need to copy the `code` folder and the `w1_topointro` folder. Let's look into what's inside.\n",
      "\n",
      "\n",
      "#### First task: combination of particle-hole and time-reversal symmetries\n",
      "\n",
      "Look at the notebook about topology of zero-dimensional systems, and see how we generate Hamiltonians with a spinful time-reversal symmetry\n",
      "\n",
      "$$\n",
      "H = \\sigma_y H^* \\sigma_y.\n",
      "$$\n",
      "\n",
      "Now try to add this time reversal symmetry to a Hamiltonian which also has particle-hole symmetry. It is easiest to do in the basis where particle-hole symmetry has the form $H = -H^*$.\n",
      "What do you think will happen? What will the extra symmetry do to the topological invariant?\n",
      "Test your guess by plotting the spectrum and calculating the Pfaffian invariant.\n",
      "\n",
      "\n",
      "#### Second task: Su-Schrieffer-Heeger (SSH) model\n",
      "\n",
      "Similar to the Kitaev chain, the SSH model is simple a one-dimensional model where you can see all the essential aspects of topological systems. Unlike the Kitaev chain it does correspond to a physical system: electrons in a polyacetylene chain.\n",
      "\n",
      "Here's such a chain:\n",
      "\n",
      "![](figures/polyacetylene.png)\n",
      "\n",
      "Due to the dimerization of the chain the unit cell has two atoms and the hoppings have alternating strengths $t_1$ and $t_2$, so that the Hamiltonian is\n",
      "$$H = \\sum_{n=1}^N t_1 \\left|2n-1\\right\\rangle\\left\\langle 2n\\right|+t_2 \\left|2n\\right\\rangle \\left\\langle 2n+1\\right| + \\textrm{h.c}$$\n",
      "\n",
      "We can choose to start a unit cell from an even-numbered site, so $t_1$ becomes intra-cell hopping and $t_2$ inter-cell hopping.\n",
      "\n",
      "\n",
      "Now get the notebook with the Kitaev chain and transform a Kitaev chain into an SSH chain.\n",
      "\n",
      "Now repeat the calculations we've done with Majoranas using SSH chain. Keep $t_1 = 1$ and vary $t_2$.\n",
      "You should see something very similar to what you saw with the Kitaev chain.\n",
      "\n",
      "As you can guess, this is because the chain is topological.\n",
      "Think for a moment: what kind of symmetry protects the states at the edges of the chain.\n",
      "*(Hint: you did encounter this symmetry in our course.)*\n",
      "\n",
      "The particle-hole symmetry, is a consequence of a mathematical transformation, and cannot be broken.\n",
      "The symmetry protecting the SSH chain, however, can be broken.\n",
      "Test your guess about the protecting symmetry by adding to your chain a term which breaks this symmetry and checking what it does to the spectrum of a finite chain and to its dispersion (especially as chain goes through a phase transition)."
     ]
    },
    {
     "cell_type": "code",
     "collapsed": false,
     "input": [
      "MoocSelfAssessment()"
     ],
     "language": "python",
     "metadata": {},
     "outputs": [
      {
       "html": [
        "<p><b> MoocSelfAssessment description</b></p>\n",
        "<p><b>In the live version of the course, you would need to share your solution and grade yourself.</b></p>"
       ],
       "metadata": {},
       "output_type": "pyout",
       "text": [
        "MoocSelfAssessment(**{'openassessment_self': '<openassessment allow_file_upload=\"False\" allow_latex=\"True\" submission_due=\"2029-01-01T00:00:00+00:00\" submission_start=\"2001-01-01T00:00:00+00:00\">\\n    <title>Simulation results</title>\\n    <assessments>\\n      <assessment name=\"self-assessment\" start=\"2001-01-01T00:00:00+00:00\" due=\"2029-01-01T00:00:00+00:00\"/>\\n    </assessments>\\n    <rubric>\\n      <prompt>This is a self-assessment problem, and you should estimate how much you have done.\\n\\nPlease do not just give yourself points: the course grading policy does allow you to skip the simulations completely and still pass the course.\\n\\nConsider this grade also a way to providing information to us. Are we going too fast? Are the tasks too hard?\\n\\nIf you didn\\'t manage to get some part done, feel free to ask for advice in discussions.\\n\\nIn the text entry field just leave a link to your notebooks.\\n\\nBut there\\'s also a much better use for them: go to the discussion below and share the notebooks also with your colleagues.</prompt>\\n      <criterion>\\n        <name>0</name>\\n        <label>Completeness</label>\\n        <prompt>What is the fraction of the tasks that you were able to accomplish? </prompt>\\n        <option points=\"2\">\\n          <name>0</name>\\n          <label>I tried</label>\\n          <explanation>...but didn\\'t get anywhere</explanation>\\n        </option>\\n        <option points=\"5\">\\n          <name>1</name>\\n          <label>A couple of easy things</label>\\n          <explanation>I was able to run the code from the lectures and play around with the parameters, but I didn\\'t understand how to modify it to solve the problems.</explanation>\\n        </option>\\n        <option points=\"8\">\\n          <name>2</name>\\n          <label>Half-half</label>\\n          <explanation>I managed to get the more basic things to work, but the rest just don\\'t! Damn bugs!</explanation>\\n        </option>\\n        <option points=\"11\">\\n          <name>3</name>\\n          <label>Complete</label>\\n          <explanation>All the tasks are neatly done :-)</explanation>\\n        </option>\\n        <option points=\"14\">\\n          <name>4</name>\\n          <label>Look what I found!</label>\\n          <explanation>I just finished the tasks, but then i thought: I could implement something else. And hey, take a look!</explanation>\\n        </option>\\n      </criterion>\\n    </rubric>\\n </openassessment>\\n', 'url_name': None})"
       ]
      }
     ]
    },
    {
     "cell_type": "markdown",
     "metadata": {},
     "source": [
      "**Now share your results:**"
     ]
    },
    {
     "cell_type": "code",
     "collapsed": false,
     "input": [
      "MoocDiscussion('Labs', 'Toy models simulations')"
     ],
     "language": "python",
     "metadata": {},
     "outputs": [
      {
       "html": [
        "<p><b>Discussion</b> entitled 'Toy models simulations' is available in the online version of the course.</p>"
       ],
       "metadata": {},
       "output_type": "pyout",
       "text": [
        "MoocDiscussion(**{'discussion_category': 'Labs', 'discussion_target': 'Toy models simulations', 'display_name': 'Toy models simulations', 'discussion_id': '57a3136318030680dadb86fa09ff83a3'})"
       ]
      }
     ]
    },
    {
     "cell_type": "heading",
     "level": 1,
     "metadata": {},
     "source": [
      "Review assignment"
     ]
    },
    {
     "cell_type": "markdown",
     "metadata": {},
     "source": [
      "For the first week we have these papers:"
     ]
    },
    {
     "cell_type": "code",
     "collapsed": false,
     "input": [
      "display_html(PreprintReference('1103.0780', \n",
      "  description=\"Topological classification is not always applied to Hamiltonians. \"\n",
      "              \"Figure out what is the topological quantity in open systems. \"\n",
      "              \"See this idea also applied in <a href=http://arxiv.org/abs/1405.6896>\"\n",
      "              \"http://arxiv.org/abs/1405.6896</a>\"))\n",
      "display_html(PreprintReference('1305.2924', description=\"This is a study of statistical properties \"\n",
      "                                       \"of topological transitions.\"))\n",
      "display_html(PreprintReference('1111.6600', description=\"A toy model may still be useful in practice.\"))"
     ],
     "language": "python",
     "metadata": {},
     "outputs": [
      {
       "html": [
        "<h3 class=\"title mathjax\">Topological properties of superconducting junctions</h3><p><a href=http://arxiv.org/abs/1103.0780>http://arxiv.org/abs/1103.0780</a><br><div class=\"authors\">D. I. Pikulin, Yuli V. Nazarov</div></p><p><blockquote class=\"abstract mathjax\">Motivated by recent developments in the field of one-dimensional topological\n",
        "superconductors, we investigate the topological properties of s-matrix of\n",
        "generic superconducting junctions where dimension should not play any role. We\n",
        "argue that for a finite junction the s-matrix is always topologically trivial.\n",
        "We resolve an apparent contradiction with the previous results by taking into\n",
        "account the low-energy resonant poles of s-matrix. Thus no common topological\n",
        "transition occur in a finite junction. We reveal a transition of a different\n",
        "kind that concerns the configuration of the resonant poles.</blockquote></p><p><b>Hint:</b> Topological classification is not always applied to Hamiltonians. Figure out what is the topological quantity in open systems. See this idea also applied in <a href=http://arxiv.org/abs/1405.6896>http://arxiv.org/abs/1405.6896</a> </p>"
       ],
       "metadata": {},
       "output_type": "display_data"
      },
      {
       "html": [
        "<h3 class=\"title mathjax\">Wigner-Poisson statistics of topological transitions in a Josephson\n",
        "  junction</h3><p><a href=http://arxiv.org/abs/1305.2924>http://arxiv.org/abs/1305.2924</a><br><div class=\"authors\">C. W. J. Beenakker, J. M. Edge, J. P. Dahlhaus, D. I. Pikulin, Shuo Mi, M. Wimmer</div></p><p><blockquote class=\"abstract mathjax\">The phase-dependent bound states (Andreev levels) of a Josephson junction can\n",
        "cross at the Fermi level, if the superconducting ground state switches between\n",
        "even and odd fermion parity. The level crossing is topologically protected, in\n",
        "the absence of time-reversal and spin-rotation symmetry, irrespective of\n",
        "whether the superconductor itself is topologically trivial or not. We develop a\n",
        "statistical theory of these topological transitions in an N-mode quantum-dot\n",
        "Josephson junction, by associating the Andreev level crossings with the real\n",
        "eigenvalues of a random non-Hermitian matrix. The number of topological\n",
        "transitions in a 2pi phase interval scales as sqrt(N) and their spacing\n",
        "distribution is a hybrid of the Wigner and Poisson distributions of\n",
        "random-matrix theory.</blockquote></p><p><b>Hint:</b> This is a study of statistical properties of topological transitions. </p>"
       ],
       "metadata": {},
       "output_type": "display_data"
      },
      {
       "html": [
        "<h3 class=\"title mathjax\">How to realize a robust practical Majorana chain in a quantum\n",
        "  dot-superconductor linear array</h3><p><a href=http://arxiv.org/abs/1111.6600>http://arxiv.org/abs/1111.6600</a><br><div class=\"authors\">Jay D. Sau, S. Das Sarma</div></p><p><blockquote class=\"abstract mathjax\">Semiconducting nanowires in proximity to superconductors are promising\n",
        "experimental systems for Majorana fermions, which may ultimately be used as\n",
        "building blocks for topological quantum computers. A serious challenge in the\n",
        "experimental realization of the Majorana fermions is the supression of\n",
        "topological superconductivity by disorder. We show that Majorana fermions\n",
        "protected by a robust topological gap can occur at the ends of a chain of\n",
        "quantum dots connected by s-wave superconductors. In the appropriate parameter\n",
        "regime, we establish that the quantum dot/superconductor system is equivalent\n",
        "to a 1D Kitaev chain, which can be tuned to be in a robust topological phase\n",
        "with Majorana end modes even in the case where the quantum dots and\n",
        "superconductors are both strongly disordered. Such a spin-orbit coupled quantum\n",
        "dot - s-wave superconductor array provides an ideal experimental platform for\n",
        "the observation of non-Abelian Majorana modes.</blockquote></p><p><b>Hint:</b> A toy model may still be useful in practice. </p>"
       ],
       "metadata": {},
       "output_type": "display_data"
      }
     ]
    },
    {
     "cell_type": "markdown",
     "metadata": {},
     "source": [
      "### Bonus: Find your own paper to review!\n",
      "\n",
      "Do you know of another paper that fits into the topics of this week, and you think is good?\n",
      "Then you can get bonus points by reviewing that paper instead!"
     ]
    },
    {
     "cell_type": "code",
     "collapsed": false,
     "input": [
      "MoocPeerAssessment()"
     ],
     "language": "python",
     "metadata": {},
     "outputs": [
      {
       "html": [
        "<p><b> Read one of the above papers and see how it is\n",
        "related to the current topic.</b></p>\n",
        "<p><b>In the live version of the course, you would need to write a summary which is then assessed by your peers.</b></p>"
       ],
       "metadata": {},
       "output_type": "pyout",
       "text": [
        "MoocPeerAssessment(**{'must_be_graded_by': '3', 'url_name': None, 'must_grade': '5', 'openassessment_peer': '<openassessment allow_file_upload=\"False\" allow_latex=\"True\" submission_due=\"2029-01-01T00:00:00+00:00\" submission_start=\"2001-01-01T00:00:00+00:00\">\\n  <title>Paper Review Assessment</title>\\n    <assessments>\\n      <assessment name=\"peer-assessment\" must_grade=\"5\" must_be_graded_by=\"3\" start=\"2015-02-05T12:00:00+00:00\" due=\"2015-02-19T12:00:00+00:00\"/>\\n    </assessments>\\n    <rubric>\\n      <prompt>Please pick one of the papers above, or if you know of a good paper that fits into this week\\'s topic, pick that one.\\n\\nLook through the paper you chose, and try to understand what is happening.\\n\\nOK, begin forming your report: start by copying the paper title and the URL.\\nTHIS IS IMPORTANT! (Your report will be read by your colleagues, and they will need this information.)\\n\\nFirst, try to tell: what is the main thing that happens in the paper. What do the authors do?\\n\\nNext, write in a single paragraph: which concepts that you learned this week appear in the paper?\\nWhere do they appear?\\n\\nNow in a new paragraph answer what new things you learned from the paper, compared to what you learned from our course?\\nIt\\'s OK if you don\\'t understand some (or even most) details, but try to find and formulate at least something new that you have learned.\\nPoint out to the places in text or to figures, which are the most valuable.\\n\\nFinally tell: What do you think are the strong sides of the paper?\\nWhat are the weak sides? Do you see something that you think could be improved?\\nDo you have some questions that the authors do not answer?\\nExplain why you think that way.</prompt>\\n      <criterion feedback=\"optional\">\\n        <name>Ideas</name>\\n        <label>Helpfulness</label>\\n        <prompt>Did reading the report help you to understand what the paper is about?\\n(Here and later if you were reviewing the same paper, try to imagine that you didn\\'t read it before)</prompt>\\n        <option points=\"1\">\\n          <name>0</name>\\n          <label>No</label>\\n          <explanation>I couldn\\'t relate the report and the paper.</explanation>\\n        </option>\\n        <option points=\"3\">\\n          <name>1</name>\\n          <label>Partially</label>\\n          <explanation>I could understand the overall direction of the paper, but not the main idea.</explanation>\\n        </option>\\n        <option points=\"5\">\\n          <name>2</name>\\n          <label>Yes</label>\\n          <explanation>After reading the report I fully knew what to expect from the paper.</explanation>\\n        </option>\\n      </criterion>\\n      <criterion feedback=\"optional\">\\n        <name>0</name>\\n        <label>Insight</label>\\n        <prompt>Did you learn something from the report itself (before you read the paper)</prompt>\\n        <option points=\"1\">\\n          <name>1</name>\\n          <label>Low</label>\\n          <explanation>The review has no additional information</explanation>\\n        </option>\\n        <option points=\"3\">\\n          <name>0</name>\\n          <label>Average</label>\\n          <explanation>The review nicely relates the paper to what we learned.</explanation>\\n        </option>\\n        <option points=\"5\">\\n          <name>2</name>\\n          <label>High</label>\\n          <explanation>I learned from the report something I didn\\'t see neither in the paper nor in the course.</explanation>\\n        </option>\\n      </criterion>\\n      <criterion feedback=\"optional\">\\n        <name>1</name>\\n        <label>Paper Evaluation</label>\\n        <prompt>Do you find the evaluation of the strengths and weaknesses of the paper shown in the report convincing?</prompt>\\n        <option points=\"1\">\\n          <name>0</name>\\n          <label>Weak</label>\\n          <explanation>I could not find the strengths and weaknesses of the paper that were pointed out in the report.\\n</explanation>\\n        </option>\\n        <option points=\"3\">\\n          <name>1</name>\\n          <label>Competent</label>\\n          <explanation>I agree with the evaluation of the strengths and weaknesses, but the argumentation presented was not completely clear.</explanation>\\n        </option>\\n        <option points=\"5\">\\n          <name>2</name>\\n          <label>Excellent</label>\\n          <explanation>I think the author of the report really understand the paper well, and knows its ins and outs.</explanation>\\n        </option>\\n      </criterion>\\n      <feedbackprompt>(Optional) What aspects of this report stood out to you? What did it do well? How could it improve?\\n</feedbackprompt>\\n      <feedback_default_text>This report was...\\n</feedback_default_text>\\n    </rubric>\\n  </openassessment>\\n'})"
       ]
      }
     ]
    },
    {
     "cell_type": "markdown",
     "metadata": {},
     "source": [
      "**Do you have questions about what you read? Would you like to suggest other papers? Tell us:**"
     ]
    },
    {
     "cell_type": "code",
     "collapsed": false,
     "input": [
      "MoocDiscussion(\"Reviews\", \"Toy models\")"
     ],
     "language": "python",
     "metadata": {},
     "outputs": [
      {
       "html": [
        "<p><b>Discussion</b> entitled 'Toy models' is available in the online version of the course.</p>"
       ],
       "metadata": {},
       "output_type": "pyout",
       "text": [
        "MoocDiscussion(**{'discussion_category': 'Reviews', 'discussion_target': 'Toy models', 'display_name': 'Toy models', 'discussion_id': '99ad1eab8cb6c2e5f225ba82e0da5f67'})"
       ]
      }
     ]
    }
   ],
   "metadata": {}
  }
 ]
}